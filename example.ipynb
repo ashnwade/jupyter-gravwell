{
 "cells": [
  {
   "cell_type": "code",
   "execution_count": 1,
   "id": "3956b106-7232-4c7d-a562-b2f7bc71e7e0",
   "metadata": {},
   "outputs": [],
   "source": [
    "%run gravwell-lib.ipynb"
   ]
  },
  {
   "cell_type": "markdown",
   "id": "9bed2c0a-b851-46b0-ab38-9b05ae925774",
   "metadata": {},
   "source": [
    "# Tables\n",
    "Here is a basic table query:"
   ]
  },
  {
   "cell_type": "code",
   "execution_count": 2,
   "id": "ef7c5a49-30d4-48e4-891d-d81b6089faf6",
   "metadata": {},
   "outputs": [
    {
     "data": {
      "text/html": [
       "<div>\n",
       "<style scoped>\n",
       "    .dataframe tbody tr th:only-of-type {\n",
       "        vertical-align: middle;\n",
       "    }\n",
       "\n",
       "    .dataframe tbody tr th {\n",
       "        vertical-align: top;\n",
       "    }\n",
       "\n",
       "    .dataframe thead th {\n",
       "        text-align: right;\n",
       "    }\n",
       "</style>\n",
       "<table border=\"1\" class=\"dataframe\">\n",
       "  <thead>\n",
       "    <tr style=\"text-align: right;\">\n",
       "      <th></th>\n",
       "      <th>protocol</th>\n",
       "      <th>host</th>\n",
       "      <th>ip</th>\n",
       "      <th>ms</th>\n",
       "    </tr>\n",
       "  </thead>\n",
       "  <tbody>\n",
       "    <tr>\n",
       "      <th>0</th>\n",
       "      <td>ICMP</td>\n",
       "      <td>resolver1.opendns.com</td>\n",
       "      <td>208.67.222.222</td>\n",
       "      <td>2.201564</td>\n",
       "    </tr>\n",
       "    <tr>\n",
       "      <th>1</th>\n",
       "      <td>ICMP</td>\n",
       "      <td>www.gravwell.io</td>\n",
       "      <td>199.60.103.2</td>\n",
       "      <td>1.406499</td>\n",
       "    </tr>\n",
       "    <tr>\n",
       "      <th>2</th>\n",
       "      <td>ICMP</td>\n",
       "      <td>one.one.one.one</td>\n",
       "      <td>1.1.1.1</td>\n",
       "      <td>1.336061</td>\n",
       "    </tr>\n",
       "    <tr>\n",
       "      <th>3</th>\n",
       "      <td>ICMP</td>\n",
       "      <td>dns.google</td>\n",
       "      <td>8.8.8.8</td>\n",
       "      <td>1.773654</td>\n",
       "    </tr>\n",
       "    <tr>\n",
       "      <th>4</th>\n",
       "      <td>ICMP</td>\n",
       "      <td>ns1.google.com</td>\n",
       "      <td>216.239.32.10</td>\n",
       "      <td>9.960272</td>\n",
       "    </tr>\n",
       "    <tr>\n",
       "      <th>5</th>\n",
       "      <td>ICMP</td>\n",
       "      <td>dns9.quad9.net</td>\n",
       "      <td>149.112.112.9</td>\n",
       "      <td>0.729415</td>\n",
       "    </tr>\n",
       "  </tbody>\n",
       "</table>\n",
       "</div>"
      ],
      "text/plain": [
       "  protocol                   host              ip        ms\n",
       "0     ICMP  resolver1.opendns.com  208.67.222.222  2.201564\n",
       "1     ICMP        www.gravwell.io    199.60.103.2  1.406499\n",
       "2     ICMP        one.one.one.one         1.1.1.1  1.336061\n",
       "3     ICMP             dns.google         8.8.8.8  1.773654\n",
       "4     ICMP         ns1.google.com   216.239.32.10  9.960272\n",
       "5     ICMP         dns9.quad9.net   149.112.112.9  0.729415"
      ]
     },
     "execution_count": 2,
     "metadata": {},
     "output_type": "execute_result"
    }
   ],
   "source": [
    "table = query(\"tag=pinger ax | stats mean(ms) as ms by host ip | table protocol host ip ms\", \"-1h\")\n",
    "table"
   ]
  },
  {
   "cell_type": "markdown",
   "id": "ba776b50-03a7-4892-b02d-b2c645558172",
   "metadata": {},
   "source": [
    "# Charts\n",
    "Now let's run a query using the chart renderer. Note that we call the same function as before: `query`."
   ]
  },
  {
   "cell_type": "code",
   "execution_count": 63,
   "id": "263d3ad4-9243-4fae-90b5-221ab18654e8",
   "metadata": {},
   "outputs": [
    {
     "data": {
      "text/html": [
       "<div>\n",
       "<style scoped>\n",
       "    .dataframe tbody tr th:only-of-type {\n",
       "        vertical-align: middle;\n",
       "    }\n",
       "\n",
       "    .dataframe tbody tr th {\n",
       "        vertical-align: top;\n",
       "    }\n",
       "\n",
       "    .dataframe thead th {\n",
       "        text-align: right;\n",
       "    }\n",
       "</style>\n",
       "<table border=\"1\" class=\"dataframe\">\n",
       "  <thead>\n",
       "    <tr style=\"text-align: right;\">\n",
       "      <th></th>\n",
       "      <th>Timestamp</th>\n",
       "      <th>dns.google</th>\n",
       "      <th>dns9.quad9.net</th>\n",
       "      <th>ns1.google.com</th>\n",
       "      <th>one.one.one.one</th>\n",
       "      <th>resolver1.opendns.com</th>\n",
       "      <th>www.gravwell.io</th>\n",
       "    </tr>\n",
       "  </thead>\n",
       "  <tbody>\n",
       "    <tr>\n",
       "      <th>0</th>\n",
       "      <td>2022-07-19 22:37:37.718750+00:00</td>\n",
       "      <td>1.775643</td>\n",
       "      <td>0.776961</td>\n",
       "      <td>9.683884</td>\n",
       "      <td>1.347853</td>\n",
       "      <td>2.230959</td>\n",
       "      <td>1.357453</td>\n",
       "    </tr>\n",
       "  </tbody>\n",
       "</table>\n",
       "</div>"
      ],
      "text/plain": [
       "                         Timestamp  dns.google  dns9.quad9.net  \\\n",
       "0 2022-07-19 22:37:37.718750+00:00    1.775643        0.776961   \n",
       "\n",
       "   ns1.google.com  one.one.one.one  resolver1.opendns.com  www.gravwell.io  \n",
       "0        9.683884         1.347853               2.230959         1.357453  "
      ]
     },
     "execution_count": 63,
     "metadata": {},
     "output_type": "execute_result"
    }
   ],
   "source": [
    "chart = query(\"tag=pinger ax | stats mean(ms) by host | chart mean by host\", \"-1h\")\n",
    "chart"
   ]
  },
  {
   "cell_type": "code",
   "execution_count": 62,
   "id": "c3081278-e9c0-475b-8563-087d5cd8eaf8",
   "metadata": {},
   "outputs": [
    {
     "data": {
      "image/png": "[encoded data removed]",
      "text/plain": [
       "<Figure size 864x432 with 1 Axes>"
      ]
     },
     "metadata": {
      "needs_background": "light"
     },
     "output_type": "display_data"
    }
   ],
   "source": [
    "chart = query(\"tag=pinger ax | stats mean(ms) by host | chart mean by host\", \"-1h\")\n",
    "plt.figure(figsize=(12,6))\n",
    "for column_name in chart.set_index(\"Timestamp\"):\n",
    "    plt.plot(chart[\"Timestamp\"],chart[column_name])"
   ]
  },
  {
   "cell_type": "markdown",
   "id": "ef6155e5-4be6-4ffb-818f-a14fce8225f6",
   "metadata": {},
   "source": [
    "If we're not interested in timeseries data, it makes more sense to plot the results of the table renderer, for example when doing a pie chart:"
   ]
  },
  {
   "cell_type": "code",
   "execution_count": 43,
   "id": "0e9d888d-aa15-4373-800e-94df360e645c",
   "metadata": {},
   "outputs": [
    {
     "data": {
      "text/plain": [
       "<AxesSubplot:ylabel='count'>"
      ]
     },
     "execution_count": 43,
     "metadata": {},
     "output_type": "execute_result"
    },
    {
     "data": {
      "image/png": "[encoded data removed]",
      "text/plain": [
       "<Figure size 864x864 with 1 Axes>"
      ]
     },
     "metadata": {},
     "output_type": "display_data"
    }
   ],
   "source": [
    "table.set_index(\"Appname\").plot.pie(y=\"count\", figsize=(12, 12))"
   ]
  },
  {
   "cell_type": "markdown",
   "id": "86d2368c-fcbe-4be1-9e5a-987a89b07d6d",
   "metadata": {},
   "source": [
    "# Raw Entries\n",
    "Of course we can also just pull back the raw entries:"
   ]
  },
  {
   "cell_type": "code",
   "execution_count": 25,
   "id": "68e8ab79-2ad3-4010-9649-18292f0de506",
   "metadata": {},
   "outputs": [
    {
     "name": "stdout",
     "output_type": "stream",
     "text": [
      "<15>1 2022-07-19T12:42:53.799524-07:00 thufir webserver 0 - [gw@1 host=\"127.0.0.1\" method=\"GET\" url=\"/api/tags\" status=\"200\" useragent=\"Mozilla/5.0 (X11; Linux x86_64; rv:102.0) Gecko/20100101 Firefox/102.0\" elapsed=\"0ms\"]\n",
      "<15>1 2022-07-19T12:42:53.470726-07:00 thufir webserver 0 - [gw@1 host=\"127.0.0.1\" method=\"GET\" url=\"/api/flows?admin=true\" status=\"200\" useragent=\"GravwellSearchAgent-5.0.5\" elapsed=\"3ms\"]\n",
      "<15>1 2022-07-19T12:42:53.466833-07:00 thufir webserver 0 - [gw@1 host=\"127.0.0.1\" method=\"GET\" url=\"/api/scheduledsearches/all?admin=true\" status=\"200\" useragent=\"GravwellSearchAgent-5.0.5\" elapsed=\"1ms\"]\n",
      "<15>1 2022-07-19T12:42:53.465233-07:00 thufir webserver 0 - [gw@1 host=\"127.0.0.1\" method=\"PUT\" url=\"/api/scheduledsearches/checkin?admin=true\" status=\"200\" useragent=\"GravwellSearchAgent-5.0.5\" elapsed=\"0ms\"]\n",
      "<15>1 2022-07-19T12:42:51.461342-07:00 thufir webserver 0 - [gw@1 host=\"127.0.0.1\" method=\"GET\" url=\"/api/flows?admin=true\" status=\"200\" useragent=\"GravwellSearchAgent-5.0.5\" elapsed=\"4ms\"]\n",
      "<15>1 2022-07-19T12:42:51.455499-07:00 thufir webserver 0 - [gw@1 host=\"127.0.0.1\" method=\"GET\" url=\"/api/scheduledsearches/all?admin=true\" status=\"200\" useragent=\"GravwellSearchAgent-5.0.5\" elapsed=\"2ms\"]\n",
      "<15>1 2022-07-19T12:42:51.452607-07:00 thufir webserver 0 - [gw@1 host=\"127.0.0.1\" method=\"PUT\" url=\"/api/scheduledsearches/checkin?admin=true\" status=\"200\" useragent=\"GravwellSearchAgent-5.0.5\" elapsed=\"0ms\"]\n",
      "<15>1 2022-07-19T12:42:49.448636-07:00 thufir webserver 0 - [gw@1 host=\"127.0.0.1\" method=\"GET\" url=\"/api/flows?admin=true\" status=\"200\" useragent=\"GravwellSearchAgent-5.0.5\" elapsed=\"4ms\"]\n",
      "<15>1 2022-07-19T12:42:49.442878-07:00 thufir webserver 0 - [gw@1 host=\"127.0.0.1\" method=\"GET\" url=\"/api/scheduledsearches/all?admin=true\" status=\"200\" useragent=\"GravwellSearchAgent-5.0.5\" elapsed=\"2ms\"]\n",
      "<15>1 2022-07-19T12:42:49.439764-07:00 thufir webserver 0 - [gw@1 host=\"127.0.0.1\" method=\"PUT\" url=\"/api/scheduledsearches/checkin?admin=true\" status=\"200\" useragent=\"GravwellSearchAgent-5.0.5\" elapsed=\"0ms\"]\n"
     ]
    }
   ],
   "source": [
    "raw = query(\"tag=gravwell limit 10\", \"-1h\")\n",
    "for x in raw[\"Data\"]:\n",
    "    print(x)"
   ]
  },
  {
   "cell_type": "code",
   "execution_count": null,
   "id": "3a4a3f12-a9ac-4091-9b6a-c8d28731bf18",
   "metadata": {},
   "outputs": [],
   "source": []
  }
 ],
 "metadata": {
  "authors": [
   {
    "name": "John Floren"
   }
  ],
  "kernelspec": {
   "display_name": "Python 3",
   "language": "python",
   "name": "python3"
  },
  "language_info": {
   "codemirror_mode": {
    "name": "ipython",
    "version": 3
   },
   "file_extension": ".py",
   "mimetype": "text/x-python",
   "name": "python",
   "nbconvert_exporter": "python",
   "pygments_lexer": "ipython3",
   "version": "3.9.2"
  },
  "title": "Gravwell Report"
 },
 "nbformat": 4,
 "nbformat_minor": 5
}
