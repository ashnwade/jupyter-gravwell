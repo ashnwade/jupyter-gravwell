{
 "cells": [
  {
   "cell_type": "markdown",
   "id": "e05385f7-301d-4fe3-9a06-66c3d99209de",
   "metadata": {},
   "source": [
    "This file defines functions for connecting with a Gravwell system.\n",
    "\n",
    "You'll probably want to redefine GravwellToken and GravwellServer -- you can do this in your own notebooks, or you can modify this one. The defaults point at a demo Gravwell instance with some basic data.\n",
    "\n",
    "GravwellServer should be the base URL of your Gravwell instance.\n",
    "\n",
    "To \"import\" this code, add a code block at the top of your notebook containing `%run gravwell-lib.ipynb`."
   ]
  },
  {
   "cell_type": "code",
   "execution_count": 102,
   "id": "8d228ec5-6003-4f03-953a-b7e941e36d0f",
   "metadata": {
    "tags": []
   },
   "outputs": [],
   "source": [
    "# CHANGE ME\n",
    "GravwellToken = \"1pDYfEiwkXPLRdI1vjqxQxec01N_glZQ4RTBlkA6JAMF\"\n",
    "GravwellServer = \"https://demo.gravwell.io\"\n",
    "\n",
    "from io import StringIO\n",
    "import matplotlib.pyplot as plt\n",
    "import pandas as pd\n",
    "import requests\n",
    "import urllib\n",
    "import json\n",
    "from datetime import datetime\n",
    "\n",
    "# tableQuery runs a gravwell query and returns the results as\n",
    "# a pandas.DataFrame\n",
    "def query(query, duration):\n",
    "    headers = {\n",
    "        \"Gravwell-Token\": GravwellToken,\n",
    "        \"query\": query,\n",
    "        \"duration\": duration,\n",
    "        \"format\": \"csv\"\n",
    "    }\n",
    "    r = requests.post(urllib.parse.urljoin(GravwellServer, '/api/search/direct'), headers=headers)\n",
    "    df = pd.DataFrame()\n",
    "    if len(r.text) > 0:\n",
    "        df = pd.read_csv(StringIO(r.text), parse_dates=[0], infer_datetime_format=True)\n",
    "    return df"
   ]
  },
  {
   "cell_type": "code",
   "execution_count": null,
   "id": "6eab6f49-b1ec-4729-b035-9123a6e923e4",
   "metadata": {},
   "outputs": [],
   "source": []
  }
 ],
 "metadata": {
  "kernelspec": {
   "display_name": "Python 3",
   "language": "python",
   "name": "python3"
  },
  "language_info": {
   "codemirror_mode": {
    "name": "ipython",
    "version": 3
   },
   "file_extension": ".py",
   "mimetype": "text/x-python",
   "name": "python",
   "nbconvert_exporter": "python",
   "pygments_lexer": "ipython3",
   "version": "3.9.2"
  },
  "source_hidden": true
 },
 "nbformat": 4,
 "nbformat_minor": 5
}
