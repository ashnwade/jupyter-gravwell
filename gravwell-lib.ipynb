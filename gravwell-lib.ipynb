{
 "cells": [
  {
   "cell_type": "markdown",
   "id": "e05385f7-301d-4fe3-9a06-66c3d99209de",
   "metadata": {},
   "source": [
    "This file defines functions for connecting with a Gravwell system.\n",
    "\n",
    "You'll probably want to redefine GravwellToken and GravwellServer -- you can do this in your own notebooks, or you can modify this one. The defaults point at a demo Gravwell instance with some basic data.\n",
    "\n",
    "GravwellServer should be the base URL of your Gravwell instance.\n",
    "\n",
    "To \"import\" this code, add a code block at the top of your notebook containing `%run gravwell-lib.ipynb`."
   ]
  },
  {
   "cell_type": "code",
   "execution_count": 13,
   "id": "8d228ec5-6003-4f03-953a-b7e941e36d0f",
   "metadata": {
    "tags": []
   },
   "outputs": [],
   "source": [
    "# CHANGE ME\n",
    "GravwellToken = \"clGSxt3bOwtVCqqNiIF6I5R8RoU_6nK51X3R7Eg3a-edMdY-X7A\"\n",
    "GravwellServer = \"https://demo.gravwell.io\"\n",
    "\n",
    "from io import StringIO\n",
    "import matplotlib.pyplot as plt\n",
    "import pandas as pd\n",
    "import requests\n",
    "import urllib\n",
    "import json\n",
    "import datetime\n",
    "import pytz\n",
    "\n",
    "def query(query, duration='-1h', start='', end=''):\n",
    "    \"\"\"\n",
    "    Run a Gravwell query and return the results in a pandas.DataFrame\n",
    "    \n",
    "    Parameters\n",
    "    -----------\n",
    "    query: str\n",
    "        The Gravwell query to run.\n",
    "        \n",
    "    duration: str, default '-1h'\n",
    "        The duration over which the query should run, e.g. \"-24h\". \n",
    "        If `start` and `end` are specified, duration will be ignored.\n",
    "    \n",
    "    start, end: str, default ''\n",
    "        Specifies explicit start and end points for the query.\n",
    "        Should be an RFC3339/ISO8601 timestamp e.g. \"2006-01-02T15:04:05Z\" or \"2006-01-02T15:04:05-07:00\".\n",
    "        Overrides `duration`.\n",
    "        This example runs a search from July 1, 2022 00:00:00 (local time) to the current time:\n",
    "        \n",
    "            end=datetime.datetime.now().astimezone().isoformat()\n",
    "            start=datetime.datetime.fromisoformat('2022-07-01').astimezone().isoformat()\n",
    "            query(\"tag=stocks stats count\", start=start, end=end)\n",
    "\n",
    "    \"\"\"\n",
    "    headers = {\n",
    "        \"Gravwell-Token\": GravwellToken,\n",
    "        \"query\": query,\n",
    "        \"duration\": duration,\n",
    "        \"start\": start,\n",
    "        \"end\": end,\n",
    "        \"format\": \"csv\"\n",
    "    }\n",
    "    if start != '' and end != '':\n",
    "        headers[\"duration\"] = ''\n",
    "    r = requests.post(urllib.parse.urljoin(GravwellServer, '/api/search/direct'), headers=headers)\n",
    "    r.raise_for_status()\n",
    "    df = pd.DataFrame()\n",
    "    if len(r.text) > 0:\n",
    "        df = pd.read_csv(StringIO(r.text), parse_dates=[0], infer_datetime_format=True)\n",
    "    return df"
   ]
  },
  {
   "cell_type": "code",
   "execution_count": null,
   "id": "0bd37f51-e134-4a88-84b8-6dfaf3cc74c5",
   "metadata": {},
   "outputs": [],
   "source": []
  }
 ],
 "metadata": {
  "kernelspec": {
   "display_name": "Python 3",
   "language": "python",
   "name": "python3"
  },
  "language_info": {
   "codemirror_mode": {
    "name": "ipython",
    "version": 3
   },
   "file_extension": ".py",
   "mimetype": "text/x-python",
   "name": "python",
   "nbconvert_exporter": "python",
   "pygments_lexer": "ipython3",
   "version": "3.9.2"
  },
  "source_hidden": true
 },
 "nbformat": 4,
 "nbformat_minor": 5
}
